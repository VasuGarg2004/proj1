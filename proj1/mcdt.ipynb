{
 "cells": [
  {
   "cell_type": "code",
   "execution_count": 11,
   "metadata": {},
   "outputs": [],
   "source": [
    "# import numpy as np\n",
    "import pandas as pd\n",
    "from sklearn.model_selection import train_test_split\n",
    "# from sklearn.metrics import accuracy_score\n",
    "# from sklearn.metrics import classification_report\n",
    "# from sklearn.tree import DecisionTreeClassifier\n",
    "# import operator\n",
    "# from math import log\n",
    "# from collections import Counter\n",
    "# from statistics import mean"
   ]
  },
  {
   "cell_type": "code",
   "execution_count": 12,
   "metadata": {},
   "outputs": [],
   "source": [
    "# calculate gini index of dataset\n",
    "# cycle through each attribute and do the following\n",
    "#   split data by attribute value and calculate individual gini indices and take weighted average\n",
    "# choose the attribute with max information gain to split on\n",
    "# repeat till? information gain is 0?"
   ]
  },
  {
   "cell_type": "code",
   "execution_count": 13,
   "metadata": {},
   "outputs": [],
   "source": [
    "mushrooms = pd.read_csv('mushrooms.csv')\n",
    "\n",
    "# data split\n",
    "mushrooms_train, mushrooms_rest = train_test_split(mushrooms, test_size=0.3)\n",
    "mushrooms_test, mushrooms_validate = train_test_split(mushrooms_rest, test_size=0.33)\n",
    "\n",
    "# mushrooms_train.info()\n",
    "# mushrooms_test.info()\n",
    "# mushrooms_validate.info()"
   ]
  },
  {
   "cell_type": "code",
   "execution_count": 14,
   "metadata": {},
   "outputs": [],
   "source": [
    "# X_test = mushrooms_train.drop(['class'], axis=1)\n",
    "# y_test = mushrooms_train['class']\n",
    "\n",
    "# for index, row in X_test.iterrows():\n",
    "#     for value in row:\n",
    "#         print(f\"{ord(value)-ord('a')+1}, {value}\")\n",
    "\n",
    "# clf = DecisionTreeClassifier()\n",
    "# # clf.fit(X_test, y_test)"
   ]
  },
  {
   "cell_type": "code",
   "execution_count": 15,
   "metadata": {},
   "outputs": [],
   "source": [
    "# Function to calculate gini index of data\n",
    "def impurity(data):\n",
    "    try:\n",
    "        count_p = data['class'].value_counts()['p']\n",
    "    except KeyError:\n",
    "        count_p = 0\n",
    "    try:\n",
    "        count_e = data['class'].value_counts()['e']\n",
    "    except KeyError:\n",
    "        count_e = 0\n",
    "    gini = 1 - (count_p/len(data))**2 - (count_e/len(data))**2\n",
    "    return gini\n",
    "\n",
    "# print(impurity(mushrooms_train))\n",
    "\n",
    "# Get possible values of each attribute into a dict\n",
    "attribute_values = {}\n",
    "for column in mushrooms_train.columns:\n",
    "    if column != 'class':\n",
    "        attribute_values[column] = mushrooms_train[column].unique()\n",
    "\n",
    "# print(attribute_values['habitat'])"
   ]
  },
  {
   "cell_type": "code",
   "execution_count": 16,
   "metadata": {},
   "outputs": [],
   "source": [
    "# function pick the attribute splitting by which resluts in minimum gini index\n",
    "def attribute_choice(data):\n",
    "    min_gini = 1\n",
    "    for column in data.columns:\n",
    "        if column != 'class':\n",
    "            gini = 0\n",
    "            for attribute_value in attribute_values[column]:\n",
    "                if (len(data[data[column] == attribute_value]) == 0):\n",
    "                    continue\n",
    "                gini += impurity(data[data[column] == attribute_value]) * len(data[data[column] == attribute_value]) / len(data)\n",
    "            if gini < min_gini:\n",
    "                min_gini = gini\n",
    "                min_gini_column = column\n",
    "    return min_gini_column, min_gini\n",
    "\n",
    "# print(attribute_choice(mushrooms_train[mushrooms_train['odor'] == 'n']))"
   ]
  },
  {
   "cell_type": "code",
   "execution_count": 17,
   "metadata": {},
   "outputs": [],
   "source": [
    "# print(mushrooms_train[mushrooms_train['odor'] == 'n']['class'].value_counts())"
   ]
  },
  {
   "cell_type": "code",
   "execution_count": 18,
   "metadata": {},
   "outputs": [],
   "source": [
    "decision_tree = {}\n",
    "\n",
    "# picks best attribute at each level and recursively builds the tree\n",
    "def build_tree(data):\n",
    "    if (impurity(data) == 0):\n",
    "        return {'class': data['class'].iloc[0]}\n",
    "    attribute_name = attribute_choice(data)[0]\n",
    "    return_dict = {'attribute': attribute_name}\n",
    "    for attribute_value in attribute_values[attribute_name]:\n",
    "        if (len(data[data[attribute_name] == attribute_value]) == 0):\n",
    "            continue\n",
    "        return_dict[attribute_value] = build_tree(data[data[attribute_name] == attribute_value])\n",
    "    return return_dict\n",
    "\n",
    "decision_tree = build_tree(mushrooms_train)\n",
    "# print(decision_tree)"
   ]
  },
  {
   "cell_type": "code",
   "execution_count": 19,
   "metadata": {},
   "outputs": [],
   "source": [
    "# runs through the tree recursdively till it hits a class\n",
    "def classify(tree, data):\n",
    "    if ('class' in tree):\n",
    "        return tree['class']\n",
    "    attribute_name = tree['attribute']\n",
    "    data_value = data[attribute_name]\n",
    "    return classify(tree[data_value], data)\n",
    "\n",
    "# iterating over validation set to tune pruning parameters\n",
    "i = 0\n",
    "for index, row in mushrooms_validate.iterrows():\n",
    "    val = classify(decision_tree, row.drop('class'))\n",
    "    if (row['class'] == val):\n",
    "        i += 1\n",
    "        \n",
    "# print('accuracy:', i, len(mushrooms_validate))"
   ]
  },
  {
   "cell_type": "code",
   "execution_count": 20,
   "metadata": {},
   "outputs": [
    {
     "name": "stdout",
     "output_type": "stream",
     "text": [
      "accuracy: 1633 1633\n"
     ]
    }
   ],
   "source": [
    "# accuracy check on test set\n",
    "i = 0\n",
    "for index, row in mushrooms_test.iterrows():\n",
    "    val = classify(decision_tree, row.drop('class'))\n",
    "    if (row['class'] == val):\n",
    "        i += 1\n",
    "        \n",
    "print('accuracy:', i, len(mushrooms_test))"
   ]
  }
 ],
 "metadata": {
  "kernelspec": {
   "display_name": "Python 3",
   "language": "python",
   "name": "python3"
  },
  "language_info": {
   "codemirror_mode": {
    "name": "ipython",
    "version": 3
   },
   "file_extension": ".py",
   "mimetype": "text/x-python",
   "name": "python",
   "nbconvert_exporter": "python",
   "pygments_lexer": "ipython3",
   "version": "3.10.6"
  }
 },
 "nbformat": 4,
 "nbformat_minor": 2
}
